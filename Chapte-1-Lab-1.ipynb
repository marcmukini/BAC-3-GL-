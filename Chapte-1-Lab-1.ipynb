{
 "cells": [
  {
   "cell_type": "markdown",
   "id": "915076ef-820e-4615-ae38-8e85261e6332",
   "metadata": {},
   "source": [
    "# A. IMPORTATION DES LIBRAIRIES"
   ]
  },
  {
   "cell_type": "code",
   "execution_count": 2,
   "id": "0ce48276-d6fb-4ddf-86a5-af52736abc30",
   "metadata": {},
   "outputs": [],
   "source": [
    "#creation d'un tableau a 1 D\n",
    "tab_1D = np.array([2,4,6,8,10,12,14])"
   ]
  },
  {
   "cell_type": "code",
   "execution_count": null,
   "id": "389b72b6-a847-44e4-a837-b934c52db37a",
   "metadata": {},
   "outputs": [],
   "source": [
    "print(\"Dimension de tableau\", tab_1D.shape)\n",
    "print(\"type du tableau\", type(tab_1D))\n",
    "print(tab_1D)"
   ]
  },
  {
   "cell_type": "markdown",
   "id": "424aa5e7-91be-418a-910d-db82d0eaaab8",
   "metadata": {},
   "source": [
    "## 1.2 Tableau a 2 D"
   ]
  },
  {
   "cell_type": "code",
   "execution_count": 4,
   "id": "b77c043a-f447-440c-8b07-92470624d0a6",
   "metadata": {},
   "outputs": [],
   "source": [
    "# creation d'un tableau a 2D\n",
    "tab_2D = np.array([\n",
    "    [1,3,5,7,8],\n",
    "    [11,33,55,77,88],\n",
    "    [93,72,58,13,81],\n",
    "])    "
   ]
  },
  {
   "cell_type": "code",
   "execution_count": 5,
   "id": "6c6a419f-1e99-4049-ab52-fc4a872a2c13",
   "metadata": {},
   "outputs": [
    {
     "name": "stdout",
     "output_type": "stream",
     "text": [
      "Dimension de tableau (3, 5)\n",
      "type du tableau <class 'numpy.ndarray'>\n",
      "[[ 1  3  5  7  8]\n",
      " [11 33 55 77 88]\n",
      " [93 72 58 13 81]]\n"
     ]
    }
   ],
   "source": [
    "print(\"Dimension de tableau\", tab_2D.shape)\n",
    "print(\"type du tableau\", type(tab_2D))\n",
    "print(tab_2D)"
   ]
  },
  {
   "cell_type": "markdown",
   "id": "e012d51b-1a84-4030-85b7-d55e8c9c652e",
   "metadata": {},
   "source": [
    "## 1.3 Tableau a 3 D"
   ]
  },
  {
   "cell_type": "code",
   "execution_count": 6,
   "id": "e57f021e-81f4-44e5-8ca5-aea2592c7376",
   "metadata": {},
   "outputs": [],
   "source": [
    "# creation d'un tableau 3D\n",
    "tab_3D = np.array([[\n",
    "    [9,7,5,3,1],\n",
    "    [22,55,89,63,31],\n",
    "    [94,75,59,23,81]\n",
    "]])"
   ]
  },
  {
   "cell_type": "code",
   "execution_count": 7,
   "id": "a2a7fa53-8395-44a2-905e-a789e3806760",
   "metadata": {},
   "outputs": [
    {
     "name": "stdout",
     "output_type": "stream",
     "text": [
      "Dimension de tableau (1, 3, 5)\n",
      "type du tableau <class 'numpy.ndarray'>\n",
      "[[[ 9  7  5  3  1]\n",
      "  [22 55 89 63 31]\n",
      "  [94 75 59 23 81]]]\n"
     ]
    }
   ],
   "source": [
    "print(\"Dimension de tableau\", tab_3D.shape)\n",
    "print(\"type du tableau\", type(tab_3D))\n",
    "print(tab_3D)"
   ]
  },
  {
   "cell_type": "markdown",
   "id": "675867a3-a5dc-4e3c-8de2-e771669c0043",
   "metadata": {},
   "source": [
    "## 1.4 Tableau a 4 D"
   ]
  },
  {
   "cell_type": "code",
   "execution_count": 8,
   "id": "bed30d74-dd0f-4ebf-b9e8-abb8e0f5ffcc",
   "metadata": {},
   "outputs": [],
   "source": [
    "# creation d'un tableau 4D\n",
    "tab_4D = np.array([[[\n",
    "    [9,7,5,3,1],\n",
    "    [23,66,75,33,81],\n",
    "    [91,67,15,83,41],\n",
    "]]])"
   ]
  },
  {
   "cell_type": "code",
   "execution_count": null,
   "id": "e0952c8e-4612-4432-9f50-822dc4790a1f",
   "metadata": {},
   "outputs": [],
   "source": []
  },
  {
   "cell_type": "code",
   "execution_count": 9,
   "id": "c91da9fc-8d62-4bb4-9adb-def06fa10b8d",
   "metadata": {},
   "outputs": [
    {
     "name": "stdout",
     "output_type": "stream",
     "text": [
      "Dimension de tableau (1, 1, 3, 5)\n",
      "type du tableau <class 'numpy.ndarray'>\n",
      "[[[[ 9  7  5  3  1]\n",
      "   [23 66 75 33 81]\n",
      "   [91 67 15 83 41]]]]\n"
     ]
    }
   ],
   "source": [
    "print(\"Dimension de tableau\", tab_4D.shape)\n",
    "print(\"type du tableau\", type(tab_4D))\n",
    "print(tab_4D)"
   ]
  },
  {
   "cell_type": "markdown",
   "id": "2e89d73b-5534-4e66-a860-f2bbf92db119",
   "metadata": {
    "tags": []
   },
   "source": [
    "# B. OPERATION"
   ]
  },
  {
   "cell_type": "code",
   "execution_count": 10,
   "id": "62617d3f-dd2f-495e-87fa-d31ae68ae226",
   "metadata": {
    "tags": []
   },
   "outputs": [],
   "source": [
    "a = np.array([\n",
    "    [2,4,6,8],\n",
    "    [24,45,65,85]\n",
    "])  \n",
    "b = np.array([\n",
    "    [20,40,60,80],\n",
    "    [250,450,650,850]\n",
    "])  "
   ]
  },
  {
   "cell_type": "code",
   "execution_count": 11,
   "id": "5d63fa12-573c-4fb7-96b5-4c9b9fe53bbc",
   "metadata": {
    "tags": []
   },
   "outputs": [
    {
     "name": "stdout",
     "output_type": "stream",
     "text": [
      "(2, 4)\n",
      "[[ 2  4  6  8]\n",
      " [24 45 65 85]]\n",
      "(2, 4)\n",
      "[[ 20  40  60  80]\n",
      " [250 450 650 850]]\n"
     ]
    }
   ],
   "source": [
    "print(a.shape)\n",
    "print(a)\n",
    "print(b.shape)\n",
    "print(b)"
   ]
  },
  {
   "cell_type": "markdown",
   "id": "7a5a4219-b719-45a5-9577-4b95c670330a",
   "metadata": {},
   "source": [
    "## 1.1 ADDITION"
   ]
  },
  {
   "cell_type": "code",
   "execution_count": 12,
   "id": "8bb862ca-d3ce-4697-90de-59aa020e95a7",
   "metadata": {
    "tags": []
   },
   "outputs": [
    {
     "name": "stdout",
     "output_type": "stream",
     "text": [
      "[[ 22  44  66  88]\n",
      " [274 495 715 935]]\n"
     ]
    }
   ],
   "source": [
    "add = a + b\n",
    "print(add)"
   ]
  },
  {
   "cell_type": "markdown",
   "id": "07d6c247-0c02-4f6e-ba58-90f014d68e34",
   "metadata": {},
   "source": [
    "## 1.2 SOUSTRACTION"
   ]
  },
  {
   "cell_type": "code",
   "execution_count": 13,
   "id": "2fc5fa0b-b5e6-4a09-9c2c-44cb93b5b8ae",
   "metadata": {
    "tags": []
   },
   "outputs": [
    {
     "name": "stdout",
     "output_type": "stream",
     "text": [
      "[[ -18  -36  -54  -72]\n",
      " [-226 -405 -585 -765]]\n"
     ]
    }
   ],
   "source": [
    "sous = a - b\n",
    "print(sous)"
   ]
  },
  {
   "cell_type": "markdown",
   "id": "6aeb00dd-d769-496c-b320-3de7846e8a2a",
   "metadata": {},
   "source": [
    "## 1.3 multipliation"
   ]
  },
  {
   "cell_type": "code",
   "execution_count": 14,
   "id": "a1c96402-a155-420d-9a6d-e48b0c1e113f",
   "metadata": {
    "tags": []
   },
   "outputs": [
    {
     "name": "stdout",
     "output_type": "stream",
     "text": [
      "[[   40   160   360   640]\n",
      " [ 6000 20250 42250 72250]]\n"
     ]
    }
   ],
   "source": [
    "multi = a * b\n",
    "print(multi)"
   ]
  },
  {
   "cell_type": "markdown",
   "id": "d9f0b58a-306b-4967-8483-5dfc73f0085f",
   "metadata": {},
   "source": [
    "# C. MANIPULATION DES DONNEES"
   ]
  },
  {
   "cell_type": "code",
   "execution_count": 15,
   "id": "0d4b8913-699d-4785-99c0-547808cc3079",
   "metadata": {
    "tags": []
   },
   "outputs": [],
   "source": [
    "# creation d'un dictionnaire\n",
    "info_etudiants = {\n",
    "    'matricule': '2022020072', \n",
    "    'nom': 'banza',\n",
    "    'prenom': 'jeremy',\n",
    "    'age':13,\n",
    "    'GPA':'A'\n",
    "}"
   ]
  },
  {
   "cell_type": "code",
   "execution_count": 16,
   "id": "ed0fb198-73b8-4fd9-b8dc-e03da476fb41",
   "metadata": {
    "tags": []
   },
   "outputs": [
    {
     "name": "stdout",
     "output_type": "stream",
     "text": [
      "{'matricule': '2022020072', 'nom': 'banza', 'prenom': 'jeremy', 'age': 13, 'GPA': 'A'}\n"
     ]
    }
   ],
   "source": [
    "print(info_etudiants)"
   ]
  },
  {
   "cell_type": "code",
   "execution_count": 17,
   "id": "4f65a10e-d5d7-45f6-ab8c-022fa9f74d6a",
   "metadata": {
    "tags": []
   },
   "outputs": [],
   "source": [
    "info_tous_les_etudiants_bac_gl_ia = {\n",
    "    'matricule': ['2022020072','2022598072','2023020078','2025020077','2026020074'],\n",
    "    'nom': ['banza','mukini','kilumba','bondo','nkulu'],\n",
    "    'prenom':[ 'jeremy', 'jean marc', 'david', 'van', 'baron'],\n",
    "    'age':[13,22,18,15,30],\n",
    "    'GPA':['A','A','A','A','A']\n",
    "}"
   ]
  },
  {
   "cell_type": "code",
   "execution_count": 18,
   "id": "8993a014-3ad1-4952-97d8-b7523d388f8f",
   "metadata": {
    "tags": []
   },
   "outputs": [
    {
     "name": "stdout",
     "output_type": "stream",
     "text": [
      "{'matricule': ['2022020072', '2022598072', '2023020078', '2025020077', '2026020074'], 'nom': ['banza', 'mukini', 'kilumba', 'bondo', 'nkulu'], 'prenom': ['jeremy', 'jean marc', 'david', 'van', 'baron'], 'age': [13, 22, 18, 15, 30], 'GPA': ['A', 'A', 'A', 'A', 'A']}\n"
     ]
    }
   ],
   "source": [
    "print(info_tous_les_etudiants_bac_gl_ia)"
   ]
  },
  {
   "cell_type": "code",
   "execution_count": 19,
   "id": "f3eeb4f3-e3b6-4611-ab1f-76dedf8840c7",
   "metadata": {
    "tags": []
   },
   "outputs": [],
   "source": [
    "# importer pandas\n",
    "import pandas as pd"
   ]
  },
  {
   "cell_type": "code",
   "execution_count": 20,
   "id": "a384b7d9-ed73-42e0-89e7-3f9515741ff5",
   "metadata": {
    "tags": []
   },
   "outputs": [],
   "source": [
    "donnees_etudiants = pd.DataFrame(info_tous_les_etudiants_bac_gl_ia)"
   ]
  },
  {
   "cell_type": "code",
   "execution_count": null,
   "id": "cdd53e91-68af-44cd-9cd8-ccc4ddf873a5",
   "metadata": {},
   "outputs": [],
   "source": []
  },
  {
   "cell_type": "code",
   "execution_count": 21,
   "id": "dd5d5f34-7be8-4e4a-80be-97a950be29c8",
   "metadata": {
    "tags": []
   },
   "outputs": [
    {
     "data": {
      "text/html": [
       "<div>\n",
       "<style scoped>\n",
       "    .dataframe tbody tr th:only-of-type {\n",
       "        vertical-align: middle;\n",
       "    }\n",
       "\n",
       "    .dataframe tbody tr th {\n",
       "        vertical-align: top;\n",
       "    }\n",
       "\n",
       "    .dataframe thead th {\n",
       "        text-align: right;\n",
       "    }\n",
       "</style>\n",
       "<table border=\"1\" class=\"dataframe\">\n",
       "  <thead>\n",
       "    <tr style=\"text-align: right;\">\n",
       "      <th></th>\n",
       "      <th>matricule</th>\n",
       "      <th>nom</th>\n",
       "      <th>prenom</th>\n",
       "      <th>age</th>\n",
       "      <th>GPA</th>\n",
       "    </tr>\n",
       "  </thead>\n",
       "  <tbody>\n",
       "    <tr>\n",
       "      <th>0</th>\n",
       "      <td>2022020072</td>\n",
       "      <td>banza</td>\n",
       "      <td>jeremy</td>\n",
       "      <td>13</td>\n",
       "      <td>A</td>\n",
       "    </tr>\n",
       "    <tr>\n",
       "      <th>1</th>\n",
       "      <td>2022598072</td>\n",
       "      <td>mukini</td>\n",
       "      <td>jean marc</td>\n",
       "      <td>22</td>\n",
       "      <td>A</td>\n",
       "    </tr>\n",
       "    <tr>\n",
       "      <th>2</th>\n",
       "      <td>2023020078</td>\n",
       "      <td>kilumba</td>\n",
       "      <td>david</td>\n",
       "      <td>18</td>\n",
       "      <td>A</td>\n",
       "    </tr>\n",
       "    <tr>\n",
       "      <th>3</th>\n",
       "      <td>2025020077</td>\n",
       "      <td>bondo</td>\n",
       "      <td>van</td>\n",
       "      <td>15</td>\n",
       "      <td>A</td>\n",
       "    </tr>\n",
       "    <tr>\n",
       "      <th>4</th>\n",
       "      <td>2026020074</td>\n",
       "      <td>nkulu</td>\n",
       "      <td>baron</td>\n",
       "      <td>30</td>\n",
       "      <td>A</td>\n",
       "    </tr>\n",
       "  </tbody>\n",
       "</table>\n",
       "</div>"
      ],
      "text/plain": [
       "    matricule      nom     prenom  age GPA\n",
       "0  2022020072    banza     jeremy   13   A\n",
       "1  2022598072   mukini  jean marc   22   A\n",
       "2  2023020078  kilumba      david   18   A\n",
       "3  2025020077    bondo        van   15   A\n",
       "4  2026020074    nkulu      baron   30   A"
      ]
     },
     "execution_count": 21,
     "metadata": {},
     "output_type": "execute_result"
    }
   ],
   "source": [
    "donnees_etudiants "
   ]
  },
  {
   "cell_type": "code",
   "execution_count": 22,
   "id": "519f511d-4e38-4c73-8af6-3c0edc50b583",
   "metadata": {},
   "outputs": [
    {
     "data": {
      "text/html": [
       "<div>\n",
       "<style scoped>\n",
       "    .dataframe tbody tr th:only-of-type {\n",
       "        vertical-align: middle;\n",
       "    }\n",
       "\n",
       "    .dataframe tbody tr th {\n",
       "        vertical-align: top;\n",
       "    }\n",
       "\n",
       "    .dataframe thead th {\n",
       "        text-align: right;\n",
       "    }\n",
       "</style>\n",
       "<table border=\"1\" class=\"dataframe\">\n",
       "  <thead>\n",
       "    <tr style=\"text-align: right;\">\n",
       "      <th></th>\n",
       "      <th>matricule</th>\n",
       "      <th>nom</th>\n",
       "      <th>prenom</th>\n",
       "      <th>age</th>\n",
       "      <th>GPA</th>\n",
       "    </tr>\n",
       "  </thead>\n",
       "  <tbody>\n",
       "    <tr>\n",
       "      <th>3</th>\n",
       "      <td>2025020077</td>\n",
       "      <td>bondo</td>\n",
       "      <td>van</td>\n",
       "      <td>15</td>\n",
       "      <td>A</td>\n",
       "    </tr>\n",
       "    <tr>\n",
       "      <th>4</th>\n",
       "      <td>2026020074</td>\n",
       "      <td>nkulu</td>\n",
       "      <td>baron</td>\n",
       "      <td>30</td>\n",
       "      <td>A</td>\n",
       "    </tr>\n",
       "  </tbody>\n",
       "</table>\n",
       "</div>"
      ],
      "text/plain": [
       "    matricule    nom prenom  age GPA\n",
       "3  2025020077  bondo    van   15   A\n",
       "4  2026020074  nkulu  baron   30   A"
      ]
     },
     "execution_count": 22,
     "metadata": {},
     "output_type": "execute_result"
    }
   ],
   "source": [
    "donnees_etudiants.tail(2)"
   ]
  },
  {
   "cell_type": "code",
   "execution_count": 23,
   "id": "d47e0b2f-74ec-4958-95b9-deabc3a1e0e5",
   "metadata": {
    "tags": []
   },
   "outputs": [
    {
     "data": {
      "text/plain": [
       "0    2022020072\n",
       "1    2022598072\n",
       "2    2023020078\n",
       "3    2025020077\n",
       "4    2026020074\n",
       "Name: matricule, dtype: object"
      ]
     },
     "execution_count": 23,
     "metadata": {},
     "output_type": "execute_result"
    }
   ],
   "source": [
    "donnees_etudiants['matricule']"
   ]
  },
  {
   "cell_type": "code",
   "execution_count": null,
   "id": "238ec75e-50d8-48de-bd76-eacaafbec3a3",
   "metadata": {},
   "outputs": [],
   "source": []
  },
  {
   "cell_type": "code",
   "execution_count": 24,
   "id": "d9b8b083-7fde-4eb1-b1ba-efffe0f6fb80",
   "metadata": {
    "tags": []
   },
   "outputs": [
    {
     "data": {
      "text/html": [
       "<div>\n",
       "<style scoped>\n",
       "    .dataframe tbody tr th:only-of-type {\n",
       "        vertical-align: middle;\n",
       "    }\n",
       "\n",
       "    .dataframe tbody tr th {\n",
       "        vertical-align: top;\n",
       "    }\n",
       "\n",
       "    .dataframe thead th {\n",
       "        text-align: right;\n",
       "    }\n",
       "</style>\n",
       "<table border=\"1\" class=\"dataframe\">\n",
       "  <thead>\n",
       "    <tr style=\"text-align: right;\">\n",
       "      <th></th>\n",
       "      <th>matricule</th>\n",
       "      <th>nom</th>\n",
       "    </tr>\n",
       "  </thead>\n",
       "  <tbody>\n",
       "    <tr>\n",
       "      <th>0</th>\n",
       "      <td>2022020072</td>\n",
       "      <td>banza</td>\n",
       "    </tr>\n",
       "    <tr>\n",
       "      <th>1</th>\n",
       "      <td>2022598072</td>\n",
       "      <td>mukini</td>\n",
       "    </tr>\n",
       "    <tr>\n",
       "      <th>2</th>\n",
       "      <td>2023020078</td>\n",
       "      <td>kilumba</td>\n",
       "    </tr>\n",
       "    <tr>\n",
       "      <th>3</th>\n",
       "      <td>2025020077</td>\n",
       "      <td>bondo</td>\n",
       "    </tr>\n",
       "    <tr>\n",
       "      <th>4</th>\n",
       "      <td>2026020074</td>\n",
       "      <td>nkulu</td>\n",
       "    </tr>\n",
       "  </tbody>\n",
       "</table>\n",
       "</div>"
      ],
      "text/plain": [
       "    matricule      nom\n",
       "0  2022020072    banza\n",
       "1  2022598072   mukini\n",
       "2  2023020078  kilumba\n",
       "3  2025020077    bondo\n",
       "4  2026020074    nkulu"
      ]
     },
     "execution_count": 24,
     "metadata": {},
     "output_type": "execute_result"
    }
   ],
   "source": [
    "donnees_etudiants[['matricule','nom']]"
   ]
  },
  {
   "cell_type": "code",
   "execution_count": 25,
   "id": "0db740fd-3bd0-4730-85d7-c0041b32a5a6",
   "metadata": {
    "tags": []
   },
   "outputs": [
    {
     "data": {
      "text/plain": [
       "matricule    2023020078\n",
       "nom             kilumba\n",
       "prenom            david\n",
       "age                  18\n",
       "GPA                   A\n",
       "Name: 2, dtype: object"
      ]
     },
     "execution_count": 25,
     "metadata": {},
     "output_type": "execute_result"
    }
   ],
   "source": [
    "donnees_etudiants.iloc[2]"
   ]
  },
  {
   "cell_type": "code",
   "execution_count": 26,
   "id": "a1fc6289-5083-4d22-96c9-8edf512d4db1",
   "metadata": {
    "tags": []
   },
   "outputs": [
    {
     "data": {
      "text/html": [
       "<div>\n",
       "<style scoped>\n",
       "    .dataframe tbody tr th:only-of-type {\n",
       "        vertical-align: middle;\n",
       "    }\n",
       "\n",
       "    .dataframe tbody tr th {\n",
       "        vertical-align: top;\n",
       "    }\n",
       "\n",
       "    .dataframe thead th {\n",
       "        text-align: right;\n",
       "    }\n",
       "</style>\n",
       "<table border=\"1\" class=\"dataframe\">\n",
       "  <thead>\n",
       "    <tr style=\"text-align: right;\">\n",
       "      <th></th>\n",
       "      <th>matricule</th>\n",
       "      <th>nom</th>\n",
       "      <th>prenom</th>\n",
       "      <th>age</th>\n",
       "      <th>GPA</th>\n",
       "    </tr>\n",
       "  </thead>\n",
       "  <tbody>\n",
       "    <tr>\n",
       "      <th>0</th>\n",
       "      <td>2022020072</td>\n",
       "      <td>banza</td>\n",
       "      <td>jeremy</td>\n",
       "      <td>13</td>\n",
       "      <td>A</td>\n",
       "    </tr>\n",
       "    <tr>\n",
       "      <th>1</th>\n",
       "      <td>2022598072</td>\n",
       "      <td>mukini</td>\n",
       "      <td>jean marc</td>\n",
       "      <td>22</td>\n",
       "      <td>A</td>\n",
       "    </tr>\n",
       "    <tr>\n",
       "      <th>2</th>\n",
       "      <td>2023020078</td>\n",
       "      <td>kilumba</td>\n",
       "      <td>david</td>\n",
       "      <td>18</td>\n",
       "      <td>A</td>\n",
       "    </tr>\n",
       "    <tr>\n",
       "      <th>3</th>\n",
       "      <td>2025020077</td>\n",
       "      <td>bondo</td>\n",
       "      <td>van</td>\n",
       "      <td>15</td>\n",
       "      <td>A</td>\n",
       "    </tr>\n",
       "    <tr>\n",
       "      <th>4</th>\n",
       "      <td>2026020074</td>\n",
       "      <td>nkulu</td>\n",
       "      <td>baron</td>\n",
       "      <td>30</td>\n",
       "      <td>A</td>\n",
       "    </tr>\n",
       "  </tbody>\n",
       "</table>\n",
       "</div>"
      ],
      "text/plain": [
       "    matricule      nom     prenom  age GPA\n",
       "0  2022020072    banza     jeremy   13   A\n",
       "1  2022598072   mukini  jean marc   22   A\n",
       "2  2023020078  kilumba      david   18   A\n",
       "3  2025020077    bondo        van   15   A\n",
       "4  2026020074    nkulu      baron   30   A"
      ]
     },
     "execution_count": 26,
     "metadata": {},
     "output_type": "execute_result"
    }
   ],
   "source": [
    "donnees_etudiants.iloc[ :,:]"
   ]
  },
  {
   "cell_type": "code",
   "execution_count": 27,
   "id": "56930904-c1ab-492c-aa54-93c291d37d4c",
   "metadata": {
    "tags": []
   },
   "outputs": [
    {
     "data": {
      "text/html": [
       "<div>\n",
       "<style scoped>\n",
       "    .dataframe tbody tr th:only-of-type {\n",
       "        vertical-align: middle;\n",
       "    }\n",
       "\n",
       "    .dataframe tbody tr th {\n",
       "        vertical-align: top;\n",
       "    }\n",
       "\n",
       "    .dataframe thead th {\n",
       "        text-align: right;\n",
       "    }\n",
       "</style>\n",
       "<table border=\"1\" class=\"dataframe\">\n",
       "  <thead>\n",
       "    <tr style=\"text-align: right;\">\n",
       "      <th></th>\n",
       "      <th>matricule</th>\n",
       "      <th>nom</th>\n",
       "      <th>prenom</th>\n",
       "      <th>age</th>\n",
       "      <th>GPA</th>\n",
       "    </tr>\n",
       "  </thead>\n",
       "  <tbody>\n",
       "    <tr>\n",
       "      <th>3</th>\n",
       "      <td>2025020077</td>\n",
       "      <td>bondo</td>\n",
       "      <td>van</td>\n",
       "      <td>15</td>\n",
       "      <td>A</td>\n",
       "    </tr>\n",
       "  </tbody>\n",
       "</table>\n",
       "</div>"
      ],
      "text/plain": [
       "    matricule    nom prenom  age GPA\n",
       "3  2025020077  bondo    van   15   A"
      ]
     },
     "execution_count": 27,
     "metadata": {},
     "output_type": "execute_result"
    }
   ],
   "source": [
    "donnees_etudiants.iloc[ 3:4,:]"
   ]
  },
  {
   "cell_type": "code",
   "execution_count": 28,
   "id": "eb58098c-ba65-4675-bb87-d3859a322e3f",
   "metadata": {
    "tags": []
   },
   "outputs": [
    {
     "data": {
      "text/html": [
       "<div>\n",
       "<style scoped>\n",
       "    .dataframe tbody tr th:only-of-type {\n",
       "        vertical-align: middle;\n",
       "    }\n",
       "\n",
       "    .dataframe tbody tr th {\n",
       "        vertical-align: top;\n",
       "    }\n",
       "\n",
       "    .dataframe thead th {\n",
       "        text-align: right;\n",
       "    }\n",
       "</style>\n",
       "<table border=\"1\" class=\"dataframe\">\n",
       "  <thead>\n",
       "    <tr style=\"text-align: right;\">\n",
       "      <th></th>\n",
       "      <th>age</th>\n",
       "    </tr>\n",
       "  </thead>\n",
       "  <tbody>\n",
       "    <tr>\n",
       "      <th>0</th>\n",
       "      <td>13</td>\n",
       "    </tr>\n",
       "    <tr>\n",
       "      <th>1</th>\n",
       "      <td>22</td>\n",
       "    </tr>\n",
       "    <tr>\n",
       "      <th>2</th>\n",
       "      <td>18</td>\n",
       "    </tr>\n",
       "    <tr>\n",
       "      <th>3</th>\n",
       "      <td>15</td>\n",
       "    </tr>\n",
       "    <tr>\n",
       "      <th>4</th>\n",
       "      <td>30</td>\n",
       "    </tr>\n",
       "  </tbody>\n",
       "</table>\n",
       "</div>"
      ],
      "text/plain": [
       "   age\n",
       "0   13\n",
       "1   22\n",
       "2   18\n",
       "3   15\n",
       "4   30"
      ]
     },
     "execution_count": 28,
     "metadata": {},
     "output_type": "execute_result"
    }
   ],
   "source": [
    "donnees_etudiants.iloc[ :,3:4]"
   ]
  },
  {
   "cell_type": "code",
   "execution_count": 29,
   "id": "5a233ae7-dfa4-4549-8194-9027cdca47a2",
   "metadata": {},
   "outputs": [],
   "source": [
    "donnees_etudiants['genre'] = ['M','F','M','F','M']\n",
    "donnees_etudiants['pourcentage'] = [56,87,65,45,69]"
   ]
  },
  {
   "cell_type": "code",
   "execution_count": 30,
   "id": "6afeb5b8-bd48-4a15-92ae-ac15a5566894",
   "metadata": {
    "tags": []
   },
   "outputs": [
    {
     "data": {
      "text/html": [
       "<div>\n",
       "<style scoped>\n",
       "    .dataframe tbody tr th:only-of-type {\n",
       "        vertical-align: middle;\n",
       "    }\n",
       "\n",
       "    .dataframe tbody tr th {\n",
       "        vertical-align: top;\n",
       "    }\n",
       "\n",
       "    .dataframe thead th {\n",
       "        text-align: right;\n",
       "    }\n",
       "</style>\n",
       "<table border=\"1\" class=\"dataframe\">\n",
       "  <thead>\n",
       "    <tr style=\"text-align: right;\">\n",
       "      <th></th>\n",
       "      <th>matricule</th>\n",
       "      <th>nom</th>\n",
       "      <th>prenom</th>\n",
       "      <th>age</th>\n",
       "      <th>GPA</th>\n",
       "      <th>genre</th>\n",
       "      <th>pourcentage</th>\n",
       "    </tr>\n",
       "  </thead>\n",
       "  <tbody>\n",
       "    <tr>\n",
       "      <th>0</th>\n",
       "      <td>2022020072</td>\n",
       "      <td>banza</td>\n",
       "      <td>jeremy</td>\n",
       "      <td>13</td>\n",
       "      <td>A</td>\n",
       "      <td>M</td>\n",
       "      <td>56</td>\n",
       "    </tr>\n",
       "    <tr>\n",
       "      <th>1</th>\n",
       "      <td>2022598072</td>\n",
       "      <td>mukini</td>\n",
       "      <td>jean marc</td>\n",
       "      <td>22</td>\n",
       "      <td>A</td>\n",
       "      <td>F</td>\n",
       "      <td>87</td>\n",
       "    </tr>\n",
       "    <tr>\n",
       "      <th>2</th>\n",
       "      <td>2023020078</td>\n",
       "      <td>kilumba</td>\n",
       "      <td>david</td>\n",
       "      <td>18</td>\n",
       "      <td>A</td>\n",
       "      <td>M</td>\n",
       "      <td>65</td>\n",
       "    </tr>\n",
       "    <tr>\n",
       "      <th>3</th>\n",
       "      <td>2025020077</td>\n",
       "      <td>bondo</td>\n",
       "      <td>van</td>\n",
       "      <td>15</td>\n",
       "      <td>A</td>\n",
       "      <td>F</td>\n",
       "      <td>45</td>\n",
       "    </tr>\n",
       "    <tr>\n",
       "      <th>4</th>\n",
       "      <td>2026020074</td>\n",
       "      <td>nkulu</td>\n",
       "      <td>baron</td>\n",
       "      <td>30</td>\n",
       "      <td>A</td>\n",
       "      <td>M</td>\n",
       "      <td>69</td>\n",
       "    </tr>\n",
       "  </tbody>\n",
       "</table>\n",
       "</div>"
      ],
      "text/plain": [
       "    matricule      nom     prenom  age GPA genre  pourcentage\n",
       "0  2022020072    banza     jeremy   13   A     M           56\n",
       "1  2022598072   mukini  jean marc   22   A     F           87\n",
       "2  2023020078  kilumba      david   18   A     M           65\n",
       "3  2025020077    bondo        van   15   A     F           45\n",
       "4  2026020074    nkulu      baron   30   A     M           69"
      ]
     },
     "execution_count": 30,
     "metadata": {},
     "output_type": "execute_result"
    }
   ],
   "source": [
    "donnees_etudiants"
   ]
  },
  {
   "cell_type": "code",
   "execution_count": 31,
   "id": "f746c8bc-2b7a-4b13-afae-36502014643d",
   "metadata": {
    "tags": []
   },
   "outputs": [],
   "source": [
    "donnees_etudiants.drop(columns = 'GPA',inplace = True, axis=1)"
   ]
  },
  {
   "cell_type": "code",
   "execution_count": 32,
   "id": "5cbc2d75-d73a-4d96-9596-efa4dc280599",
   "metadata": {
    "tags": []
   },
   "outputs": [
    {
     "data": {
      "text/html": [
       "<div>\n",
       "<style scoped>\n",
       "    .dataframe tbody tr th:only-of-type {\n",
       "        vertical-align: middle;\n",
       "    }\n",
       "\n",
       "    .dataframe tbody tr th {\n",
       "        vertical-align: top;\n",
       "    }\n",
       "\n",
       "    .dataframe thead th {\n",
       "        text-align: right;\n",
       "    }\n",
       "</style>\n",
       "<table border=\"1\" class=\"dataframe\">\n",
       "  <thead>\n",
       "    <tr style=\"text-align: right;\">\n",
       "      <th></th>\n",
       "      <th>matricule</th>\n",
       "      <th>nom</th>\n",
       "      <th>prenom</th>\n",
       "      <th>age</th>\n",
       "      <th>genre</th>\n",
       "      <th>pourcentage</th>\n",
       "    </tr>\n",
       "  </thead>\n",
       "  <tbody>\n",
       "    <tr>\n",
       "      <th>0</th>\n",
       "      <td>2022020072</td>\n",
       "      <td>banza</td>\n",
       "      <td>jeremy</td>\n",
       "      <td>13</td>\n",
       "      <td>M</td>\n",
       "      <td>56</td>\n",
       "    </tr>\n",
       "    <tr>\n",
       "      <th>1</th>\n",
       "      <td>2022598072</td>\n",
       "      <td>mukini</td>\n",
       "      <td>jean marc</td>\n",
       "      <td>22</td>\n",
       "      <td>F</td>\n",
       "      <td>87</td>\n",
       "    </tr>\n",
       "    <tr>\n",
       "      <th>2</th>\n",
       "      <td>2023020078</td>\n",
       "      <td>kilumba</td>\n",
       "      <td>david</td>\n",
       "      <td>18</td>\n",
       "      <td>M</td>\n",
       "      <td>65</td>\n",
       "    </tr>\n",
       "    <tr>\n",
       "      <th>3</th>\n",
       "      <td>2025020077</td>\n",
       "      <td>bondo</td>\n",
       "      <td>van</td>\n",
       "      <td>15</td>\n",
       "      <td>F</td>\n",
       "      <td>45</td>\n",
       "    </tr>\n",
       "    <tr>\n",
       "      <th>4</th>\n",
       "      <td>2026020074</td>\n",
       "      <td>nkulu</td>\n",
       "      <td>baron</td>\n",
       "      <td>30</td>\n",
       "      <td>M</td>\n",
       "      <td>69</td>\n",
       "    </tr>\n",
       "  </tbody>\n",
       "</table>\n",
       "</div>"
      ],
      "text/plain": [
       "    matricule      nom     prenom  age genre  pourcentage\n",
       "0  2022020072    banza     jeremy   13     M           56\n",
       "1  2022598072   mukini  jean marc   22     F           87\n",
       "2  2023020078  kilumba      david   18     M           65\n",
       "3  2025020077    bondo        van   15     F           45\n",
       "4  2026020074    nkulu      baron   30     M           69"
      ]
     },
     "execution_count": 32,
     "metadata": {},
     "output_type": "execute_result"
    }
   ],
   "source": [
    "donnees_etudiants"
   ]
  },
  {
   "cell_type": "code",
   "execution_count": 33,
   "id": "a4099ffd-8d65-4704-b528-5b6cca606831",
   "metadata": {
    "tags": []
   },
   "outputs": [],
   "source": [
    "# Convertir la colonne Genre en M = 1 et F=0\n",
    "# mapping de la colonne genre\n",
    "#mapping_genre= {'M': 1,'F': 0}\n",
    "#donnees_etudiants['genre']= donnees_etudiants ['genre'].map(mapping_genre)\n",
    "\n",
    "#\n",
    "\n",
    "#donnees_etudiants['genre']"
   ]
  },
  {
   "cell_type": "code",
   "execution_count": 34,
   "id": "ab9d6d58-9714-48ca-84da-d0ecb0064e7f",
   "metadata": {
    "tags": []
   },
   "outputs": [
    {
     "data": {
      "text/html": [
       "<div>\n",
       "<style scoped>\n",
       "    .dataframe tbody tr th:only-of-type {\n",
       "        vertical-align: middle;\n",
       "    }\n",
       "\n",
       "    .dataframe tbody tr th {\n",
       "        vertical-align: top;\n",
       "    }\n",
       "\n",
       "    .dataframe thead th {\n",
       "        text-align: right;\n",
       "    }\n",
       "</style>\n",
       "<table border=\"1\" class=\"dataframe\">\n",
       "  <thead>\n",
       "    <tr style=\"text-align: right;\">\n",
       "      <th></th>\n",
       "      <th>matricule</th>\n",
       "      <th>nom</th>\n",
       "      <th>prenom</th>\n",
       "      <th>age</th>\n",
       "      <th>genre</th>\n",
       "      <th>pourcentage</th>\n",
       "    </tr>\n",
       "  </thead>\n",
       "  <tbody>\n",
       "    <tr>\n",
       "      <th>0</th>\n",
       "      <td>2022020072</td>\n",
       "      <td>banza</td>\n",
       "      <td>jeremy</td>\n",
       "      <td>13</td>\n",
       "      <td>M</td>\n",
       "      <td>56</td>\n",
       "    </tr>\n",
       "    <tr>\n",
       "      <th>1</th>\n",
       "      <td>2022598072</td>\n",
       "      <td>mukini</td>\n",
       "      <td>jean marc</td>\n",
       "      <td>22</td>\n",
       "      <td>F</td>\n",
       "      <td>87</td>\n",
       "    </tr>\n",
       "    <tr>\n",
       "      <th>2</th>\n",
       "      <td>2023020078</td>\n",
       "      <td>kilumba</td>\n",
       "      <td>david</td>\n",
       "      <td>18</td>\n",
       "      <td>M</td>\n",
       "      <td>65</td>\n",
       "    </tr>\n",
       "    <tr>\n",
       "      <th>3</th>\n",
       "      <td>2025020077</td>\n",
       "      <td>bondo</td>\n",
       "      <td>van</td>\n",
       "      <td>15</td>\n",
       "      <td>F</td>\n",
       "      <td>45</td>\n",
       "    </tr>\n",
       "    <tr>\n",
       "      <th>4</th>\n",
       "      <td>2026020074</td>\n",
       "      <td>nkulu</td>\n",
       "      <td>baron</td>\n",
       "      <td>30</td>\n",
       "      <td>M</td>\n",
       "      <td>69</td>\n",
       "    </tr>\n",
       "  </tbody>\n",
       "</table>\n",
       "</div>"
      ],
      "text/plain": [
       "    matricule      nom     prenom  age genre  pourcentage\n",
       "0  2022020072    banza     jeremy   13     M           56\n",
       "1  2022598072   mukini  jean marc   22     F           87\n",
       "2  2023020078  kilumba      david   18     M           65\n",
       "3  2025020077    bondo        van   15     F           45\n",
       "4  2026020074    nkulu      baron   30     M           69"
      ]
     },
     "execution_count": 34,
     "metadata": {},
     "output_type": "execute_result"
    }
   ],
   "source": [
    "donnees_etudiants"
   ]
  },
  {
   "cell_type": "code",
   "execution_count": 35,
   "id": "73e3e1b5-177d-486a-bb00-129c02a1ad15",
   "metadata": {
    "tags": []
   },
   "outputs": [
    {
     "name": "stdout",
     "output_type": "stream",
     "text": [
      "<class 'pandas.core.frame.DataFrame'>\n",
      "RangeIndex: 5 entries, 0 to 4\n",
      "Data columns (total 6 columns):\n",
      " #   Column       Non-Null Count  Dtype \n",
      "---  ------       --------------  ----- \n",
      " 0   matricule    5 non-null      object\n",
      " 1   nom          5 non-null      object\n",
      " 2   prenom       5 non-null      object\n",
      " 3   age          5 non-null      int64 \n",
      " 4   genre        5 non-null      object\n",
      " 5   pourcentage  5 non-null      int64 \n",
      "dtypes: int64(2), object(4)\n",
      "memory usage: 372.0+ bytes\n"
     ]
    }
   ],
   "source": [
    "donnees_etudiants.info()"
   ]
  },
  {
   "cell_type": "markdown",
   "id": "399a3afa-86b0-4d10-9b9f-e654fe876e19",
   "metadata": {},
   "source": [
    "# D. VISUALISATION DES DONNEES"
   ]
  },
  {
   "cell_type": "code",
   "execution_count": 36,
   "id": "95819e62-c5f0-4ecc-8368-76134d8fffee",
   "metadata": {
    "tags": []
   },
   "outputs": [],
   "source": [
    "# Creation des donnees\n",
    "x = np.linspace(0,2,50)"
   ]
  },
  {
   "cell_type": "code",
   "execution_count": 37,
   "id": "dc24c32a-6c26-47ad-b65f-f444b79e1675",
   "metadata": {
    "tags": []
   },
   "outputs": [
    {
     "data": {
      "text/plain": [
       "array([0.        , 0.04081633, 0.08163265, 0.12244898, 0.16326531,\n",
       "       0.20408163, 0.24489796, 0.28571429, 0.32653061, 0.36734694,\n",
       "       0.40816327, 0.44897959, 0.48979592, 0.53061224, 0.57142857,\n",
       "       0.6122449 , 0.65306122, 0.69387755, 0.73469388, 0.7755102 ,\n",
       "       0.81632653, 0.85714286, 0.89795918, 0.93877551, 0.97959184,\n",
       "       1.02040816, 1.06122449, 1.10204082, 1.14285714, 1.18367347,\n",
       "       1.2244898 , 1.26530612, 1.30612245, 1.34693878, 1.3877551 ,\n",
       "       1.42857143, 1.46938776, 1.51020408, 1.55102041, 1.59183673,\n",
       "       1.63265306, 1.67346939, 1.71428571, 1.75510204, 1.79591837,\n",
       "       1.83673469, 1.87755102, 1.91836735, 1.95918367, 2.        ])"
      ]
     },
     "execution_count": 37,
     "metadata": {},
     "output_type": "execute_result"
    }
   ],
   "source": [
    "x"
   ]
  },
  {
   "cell_type": "code",
   "execution_count": 38,
   "id": "57f384bb-e1aa-4984-b325-062200c710b9",
   "metadata": {
    "tags": []
   },
   "outputs": [],
   "source": [
    "#Importter MATPLOTLIB\n",
    "import matplotlib.pyplot as plt"
   ]
  },
  {
   "cell_type": "code",
   "execution_count": 39,
   "id": "8be0fb6b-868c-45fe-8980-cf7dcabce292",
   "metadata": {
    "tags": []
   },
   "outputs": [
    {
     "data": {
      "text/plain": [
       "<matplotlib.legend.Legend at 0x1bc865d5dd0>"
      ]
     },
     "execution_count": 39,
     "metadata": {},
     "output_type": "execute_result"
    },
    {
     "data": {
      "image/png": "[encoded data removed]",
      "text/plain": [
       "<Figure size 600x400 with 1 Axes>"
      ]
     },
     "metadata": {},
     "output_type": "display_data"
    }
   ],
   "source": [
    "fig, ax = plt.subplots(figsize=(6, 4))\n",
    "ax.plot(x, x*2, label='double')\n",
    "ax.plot(x, x**2, label='caree de x')\n",
    "ax.plot(x, x**3, label='Cube de x')\n",
    "ax.set_xlabel('donnees de x')\n",
    "ax.set_ylabel('donnees de y')\n",
    "plt.title('donnees de linspace entre 0 et 2')\n",
    "ax.legend()\n",
    "              "
   ]
  },
  {
   "cell_type": "code",
   "execution_count": 40,
   "id": "8a4c113a-6b56-40a2-807a-c97113541d8b",
   "metadata": {
    "tags": []
   },
   "outputs": [],
   "source": [
    "# importer seaborn\n",
    "import seaborn as sns"
   ]
  },
  {
   "cell_type": "code",
   "execution_count": 42,
   "id": "00df9e8a-5d53-4073-b102-6cc90f9b376c",
   "metadata": {
    "tags": []
   },
   "outputs": [],
   "source": [
    "iris_data = sns.load_dataset('iris')"
   ]
  },
  {
   "cell_type": "code",
   "execution_count": 43,
   "id": "67c85413-f718-4e77-87a9-1c10ebd4f2de",
   "metadata": {
    "tags": []
   },
   "outputs": [],
   "source": [
    "iris_data = sns.load_dataset('iris')"
   ]
  },
  {
   "cell_type": "code",
   "execution_count": 44,
   "id": "6c1c8fee-0504-441d-937e-cba8c252e901",
   "metadata": {
    "tags": []
   },
   "outputs": [
    {
     "data": {
      "text/html": [
       "<div>\n",
       "<style scoped>\n",
       "    .dataframe tbody tr th:only-of-type {\n",
       "        vertical-align: middle;\n",
       "    }\n",
       "\n",
       "    .dataframe tbody tr th {\n",
       "        vertical-align: top;\n",
       "    }\n",
       "\n",
       "    .dataframe thead th {\n",
       "        text-align: right;\n",
       "    }\n",
       "</style>\n",
       "<table border=\"1\" class=\"dataframe\">\n",
       "  <thead>\n",
       "    <tr style=\"text-align: right;\">\n",
       "      <th></th>\n",
       "      <th>sepal_length</th>\n",
       "      <th>sepal_width</th>\n",
       "      <th>petal_length</th>\n",
       "      <th>petal_width</th>\n",
       "      <th>species</th>\n",
       "    </tr>\n",
       "  </thead>\n",
       "  <tbody>\n",
       "    <tr>\n",
       "      <th>0</th>\n",
       "      <td>5.1</td>\n",
       "      <td>3.5</td>\n",
       "      <td>1.4</td>\n",
       "      <td>0.2</td>\n",
       "      <td>setosa</td>\n",
       "    </tr>\n",
       "    <tr>\n",
       "      <th>1</th>\n",
       "      <td>4.9</td>\n",
       "      <td>3.0</td>\n",
       "      <td>1.4</td>\n",
       "      <td>0.2</td>\n",
       "      <td>setosa</td>\n",
       "    </tr>\n",
       "    <tr>\n",
       "      <th>2</th>\n",
       "      <td>4.7</td>\n",
       "      <td>3.2</td>\n",
       "      <td>1.3</td>\n",
       "      <td>0.2</td>\n",
       "      <td>setosa</td>\n",
       "    </tr>\n",
       "    <tr>\n",
       "      <th>3</th>\n",
       "      <td>4.6</td>\n",
       "      <td>3.1</td>\n",
       "      <td>1.5</td>\n",
       "      <td>0.2</td>\n",
       "      <td>setosa</td>\n",
       "    </tr>\n",
       "    <tr>\n",
       "      <th>4</th>\n",
       "      <td>5.0</td>\n",
       "      <td>3.6</td>\n",
       "      <td>1.4</td>\n",
       "      <td>0.2</td>\n",
       "      <td>setosa</td>\n",
       "    </tr>\n",
       "  </tbody>\n",
       "</table>\n",
       "</div>"
      ],
      "text/plain": [
       "   sepal_length  sepal_width  petal_length  petal_width species\n",
       "0           5.1          3.5           1.4          0.2  setosa\n",
       "1           4.9          3.0           1.4          0.2  setosa\n",
       "2           4.7          3.2           1.3          0.2  setosa\n",
       "3           4.6          3.1           1.5          0.2  setosa\n",
       "4           5.0          3.6           1.4          0.2  setosa"
      ]
     },
     "execution_count": 44,
     "metadata": {},
     "output_type": "execute_result"
    }
   ],
   "source": [
    "iris_data.head()"
   ]
  },
  {
   "cell_type": "code",
   "execution_count": 45,
   "id": "13a0a346-2b46-43d0-af21-f8084a0edfe3",
   "metadata": {
    "tags": []
   },
   "outputs": [
    {
     "data": {
      "text/plain": [
       "(150, 5)"
      ]
     },
     "execution_count": 45,
     "metadata": {},
     "output_type": "execute_result"
    }
   ],
   "source": [
    "iris_data.shape"
   ]
  },
  {
   "cell_type": "code",
   "execution_count": 46,
   "id": "3649d937-04bb-46d7-b72a-6cb6bf80403e",
   "metadata": {
    "tags": []
   },
   "outputs": [
    {
     "data": {
      "text/plain": [
       "array(['setosa', 'versicolor', 'virginica'], dtype=object)"
      ]
     },
     "execution_count": 46,
     "metadata": {},
     "output_type": "execute_result"
    }
   ],
   "source": [
    "iris_data['species'].unique()"
   ]
  },
  {
   "cell_type": "code",
   "execution_count": 47,
   "id": "5b3c0c00-4dae-4812-bbbc-29368d8aab0d",
   "metadata": {
    "tags": []
   },
   "outputs": [
    {
     "data": {
      "text/plain": [
       "<Axes: xlabel='sepal_length', ylabel='sepal_width'>"
      ]
     },
     "execution_count": 47,
     "metadata": {},
     "output_type": "execute_result"
    },
    {
     "data": {
      "image/png": "[encoded data removed]",
      "text/plain": [
       "<Figure size 640x480 with 1 Axes>"
      ]
     },
     "metadata": {},
     "output_type": "display_data"
    }
   ],
   "source": [
    "sns.scatterplot(x='sepal_length',y='sepal_width', data=iris_data, hue='species')"
   ]
  },
  {
   "cell_type": "code",
   "execution_count": 48,
   "id": "dbb7f09f-500c-4f5d-935c-9f57945e3acd",
   "metadata": {
    "tags": []
   },
   "outputs": [],
   "source": [
    "mapping_species = {\n",
    "    'setosa': 0,\n",
    "     'versicolor': 1,\n",
    "     'virginica': 2,\n",
    "}\n",
    "iris_data['species'] = iris_data['species'].map(mapping_species)\n",
    "    "
   ]
  },
  {
   "cell_type": "code",
   "execution_count": null,
   "id": "aa6162af-5023-41c6-9cab-cad6b3be4146",
   "metadata": {},
   "outputs": [],
   "source": []
  },
  {
   "cell_type": "code",
   "execution_count": null,
   "id": "e41c1d19-22c0-4788-bde2-1ce0c2c68af2",
   "metadata": {},
   "outputs": [],
   "source": []
  },
  {
   "cell_type": "code",
   "execution_count": 49,
   "id": "53902442-d025-4f6f-9552-f4b36fb26f64",
   "metadata": {
    "tags": []
   },
   "outputs": [
    {
     "data": {
      "text/html": [
       "<div>\n",
       "<style scoped>\n",
       "    .dataframe tbody tr th:only-of-type {\n",
       "        vertical-align: middle;\n",
       "    }\n",
       "\n",
       "    .dataframe tbody tr th {\n",
       "        vertical-align: top;\n",
       "    }\n",
       "\n",
       "    .dataframe thead th {\n",
       "        text-align: right;\n",
       "    }\n",
       "</style>\n",
       "<table border=\"1\" class=\"dataframe\">\n",
       "  <thead>\n",
       "    <tr style=\"text-align: right;\">\n",
       "      <th></th>\n",
       "      <th>sepal_length</th>\n",
       "      <th>sepal_width</th>\n",
       "      <th>petal_length</th>\n",
       "      <th>petal_width</th>\n",
       "      <th>species</th>\n",
       "    </tr>\n",
       "  </thead>\n",
       "  <tbody>\n",
       "    <tr>\n",
       "      <th>0</th>\n",
       "      <td>5.1</td>\n",
       "      <td>3.5</td>\n",
       "      <td>1.4</td>\n",
       "      <td>0.2</td>\n",
       "      <td>0</td>\n",
       "    </tr>\n",
       "    <tr>\n",
       "      <th>1</th>\n",
       "      <td>4.9</td>\n",
       "      <td>3.0</td>\n",
       "      <td>1.4</td>\n",
       "      <td>0.2</td>\n",
       "      <td>0</td>\n",
       "    </tr>\n",
       "    <tr>\n",
       "      <th>2</th>\n",
       "      <td>4.7</td>\n",
       "      <td>3.2</td>\n",
       "      <td>1.3</td>\n",
       "      <td>0.2</td>\n",
       "      <td>0</td>\n",
       "    </tr>\n",
       "    <tr>\n",
       "      <th>3</th>\n",
       "      <td>4.6</td>\n",
       "      <td>3.1</td>\n",
       "      <td>1.5</td>\n",
       "      <td>0.2</td>\n",
       "      <td>0</td>\n",
       "    </tr>\n",
       "    <tr>\n",
       "      <th>4</th>\n",
       "      <td>5.0</td>\n",
       "      <td>3.6</td>\n",
       "      <td>1.4</td>\n",
       "      <td>0.2</td>\n",
       "      <td>0</td>\n",
       "    </tr>\n",
       "  </tbody>\n",
       "</table>\n",
       "</div>"
      ],
      "text/plain": [
       "   sepal_length  sepal_width  petal_length  petal_width  species\n",
       "0           5.1          3.5           1.4          0.2        0\n",
       "1           4.9          3.0           1.4          0.2        0\n",
       "2           4.7          3.2           1.3          0.2        0\n",
       "3           4.6          3.1           1.5          0.2        0\n",
       "4           5.0          3.6           1.4          0.2        0"
      ]
     },
     "execution_count": 49,
     "metadata": {},
     "output_type": "execute_result"
    }
   ],
   "source": [
    "iris_data.head()"
   ]
  },
  {
   "cell_type": "code",
   "execution_count": 50,
   "id": "1e169423-7e24-4833-be6e-6fe6f1c2136a",
   "metadata": {
    "tags": []
   },
   "outputs": [
    {
     "data": {
      "text/plain": [
       "array([0, 1, 2], dtype=int64)"
      ]
     },
     "execution_count": 50,
     "metadata": {},
     "output_type": "execute_result"
    }
   ],
   "source": [
    "iris_data['species'].unique()"
   ]
  },
  {
   "cell_type": "code",
   "execution_count": null,
   "id": "cf0bc066-56e1-4157-bef2-16a2376098dc",
   "metadata": {},
   "outputs": [],
   "source": []
  }
 ],
 "metadata": {
  "kernelspec": {
   "display_name": "Python 3 (ipykernel)",
   "language": "python",
   "name": "python3"
  },
  "language_info": {
   "codemirror_mode": {
    "name": "ipython",
    "version": 3
   },
   "file_extension": ".py",
   "mimetype": "text/x-python",
   "name": "python",
   "nbconvert_exporter": "python",
   "pygments_lexer": "ipython3",
   "version": "3.11.11"
  }
 },
 "nbformat": 4,
 "nbformat_minor": 5
}
